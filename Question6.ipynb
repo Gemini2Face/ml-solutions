{
 "cells": [
  {
   "cell_type": "code",
   "execution_count": 31,
   "id": "initial_id",
   "metadata": {
    "collapsed": true,
    "ExecuteTime": {
     "end_time": "2023-09-30T00:29:53.982616200Z",
     "start_time": "2023-09-30T00:29:52.123987600Z"
    }
   },
   "outputs": [
    {
     "data": {
      "text/plain": "great_customer_class\n0    12431\n1     1168\nName: count, dtype: int64"
     },
     "execution_count": 31,
     "metadata": {},
     "output_type": "execute_result"
    }
   ],
   "source": [
    "import io\n",
    "import pandas as pd\n",
    "import requests\n",
    "from sklearn import preprocessing\n",
    "\n",
    "url = \"https://raw.githubusercontent.com/subashgandyer/datasets/main/great_customers.csv\"\n",
    "\n",
    "response = requests.get(url)\n",
    "df = pd.read_csv(io.StringIO(response.text))\n",
    "df['great_customer_class'].value_counts()\n"
   ]
  },
  {
   "cell_type": "code",
   "execution_count": 32,
   "outputs": [
    {
     "data": {
      "text/plain": "       user_id   age   workclass    salary  education_rank marital-status  \\\n2      1006870  21.0     private  47947.25              10  Never-married   \n5      1022394  26.0     private  59060.50              15  Never-married   \n6      1026358  58.0     private  56400.75               5       Divorced   \n7      1026126  23.0     private  11329.25              10       Divorced   \n9      1024034  33.0     private  55331.00               9  Never-married   \n...        ...   ...         ...       ...             ...            ...   \n13589  1021023  30.0  government  56610.75              14        Married   \n13591  1013638  58.0     private  40742.50              10        Married   \n13593  1030426  51.0     private  27984.75              13        Married   \n13597  1038013  45.0     private  25536.75              11       Divorced   \n13598  1017676  42.0     private  57656.00               6  Never-married   \n\n         occupation           race     sex  mins_beerdrinking_year  \\\n2          clerical      caucasian  Female                     0.0   \n5      professional      caucasian  Female                     0.0   \n6              farm  not_caucasian    Male                     0.0   \n7             sales      caucasian  Female                     0.0   \n9           factory  not_caucasian  Female                     0.0   \n...             ...            ...     ...                     ...   \n13589  professional      caucasian    Male                     0.0   \n13591         sales      caucasian    Male                     0.0   \n13593  professional      caucasian    Male                     0.0   \n13597     executive      caucasian    Male                     0.0   \n13598       trucker      caucasian    Male                     0.0   \n\n       mins_exercising_year  works_hours  tea_per_year  coffee_per_year  \\\n2                       0.0           10         442.0            276.0   \n5                       0.0           30         177.0            377.0   \n6                       0.0           40          11.0             98.0   \n7                       0.0           40          29.0            276.0   \n9                       0.0           40         375.0             77.0   \n...                     ...          ...           ...              ...   \n13589                1887.0           45         259.0            351.0   \n13591                1977.0           60         373.0            252.0   \n13593                   0.0           50          80.0             54.0   \n13597                   0.0           40          99.0             79.0   \n13598                   0.0           40          24.0            373.0   \n\n       great_customer_class  \n2                         0  \n5                         0  \n6                         0  \n7                         0  \n9                         0  \n...                     ...  \n13589                     1  \n13591                     1  \n13593                     1  \n13597                     1  \n13598                     1  \n\n[8436 rows x 15 columns]",
      "text/html": "<div>\n<style scoped>\n    .dataframe tbody tr th:only-of-type {\n        vertical-align: middle;\n    }\n\n    .dataframe tbody tr th {\n        vertical-align: top;\n    }\n\n    .dataframe thead th {\n        text-align: right;\n    }\n</style>\n<table border=\"1\" class=\"dataframe\">\n  <thead>\n    <tr style=\"text-align: right;\">\n      <th></th>\n      <th>user_id</th>\n      <th>age</th>\n      <th>workclass</th>\n      <th>salary</th>\n      <th>education_rank</th>\n      <th>marital-status</th>\n      <th>occupation</th>\n      <th>race</th>\n      <th>sex</th>\n      <th>mins_beerdrinking_year</th>\n      <th>mins_exercising_year</th>\n      <th>works_hours</th>\n      <th>tea_per_year</th>\n      <th>coffee_per_year</th>\n      <th>great_customer_class</th>\n    </tr>\n  </thead>\n  <tbody>\n    <tr>\n      <th>2</th>\n      <td>1006870</td>\n      <td>21.0</td>\n      <td>private</td>\n      <td>47947.25</td>\n      <td>10</td>\n      <td>Never-married</td>\n      <td>clerical</td>\n      <td>caucasian</td>\n      <td>Female</td>\n      <td>0.0</td>\n      <td>0.0</td>\n      <td>10</td>\n      <td>442.0</td>\n      <td>276.0</td>\n      <td>0</td>\n    </tr>\n    <tr>\n      <th>5</th>\n      <td>1022394</td>\n      <td>26.0</td>\n      <td>private</td>\n      <td>59060.50</td>\n      <td>15</td>\n      <td>Never-married</td>\n      <td>professional</td>\n      <td>caucasian</td>\n      <td>Female</td>\n      <td>0.0</td>\n      <td>0.0</td>\n      <td>30</td>\n      <td>177.0</td>\n      <td>377.0</td>\n      <td>0</td>\n    </tr>\n    <tr>\n      <th>6</th>\n      <td>1026358</td>\n      <td>58.0</td>\n      <td>private</td>\n      <td>56400.75</td>\n      <td>5</td>\n      <td>Divorced</td>\n      <td>farm</td>\n      <td>not_caucasian</td>\n      <td>Male</td>\n      <td>0.0</td>\n      <td>0.0</td>\n      <td>40</td>\n      <td>11.0</td>\n      <td>98.0</td>\n      <td>0</td>\n    </tr>\n    <tr>\n      <th>7</th>\n      <td>1026126</td>\n      <td>23.0</td>\n      <td>private</td>\n      <td>11329.25</td>\n      <td>10</td>\n      <td>Divorced</td>\n      <td>sales</td>\n      <td>caucasian</td>\n      <td>Female</td>\n      <td>0.0</td>\n      <td>0.0</td>\n      <td>40</td>\n      <td>29.0</td>\n      <td>276.0</td>\n      <td>0</td>\n    </tr>\n    <tr>\n      <th>9</th>\n      <td>1024034</td>\n      <td>33.0</td>\n      <td>private</td>\n      <td>55331.00</td>\n      <td>9</td>\n      <td>Never-married</td>\n      <td>factory</td>\n      <td>not_caucasian</td>\n      <td>Female</td>\n      <td>0.0</td>\n      <td>0.0</td>\n      <td>40</td>\n      <td>375.0</td>\n      <td>77.0</td>\n      <td>0</td>\n    </tr>\n    <tr>\n      <th>...</th>\n      <td>...</td>\n      <td>...</td>\n      <td>...</td>\n      <td>...</td>\n      <td>...</td>\n      <td>...</td>\n      <td>...</td>\n      <td>...</td>\n      <td>...</td>\n      <td>...</td>\n      <td>...</td>\n      <td>...</td>\n      <td>...</td>\n      <td>...</td>\n      <td>...</td>\n    </tr>\n    <tr>\n      <th>13589</th>\n      <td>1021023</td>\n      <td>30.0</td>\n      <td>government</td>\n      <td>56610.75</td>\n      <td>14</td>\n      <td>Married</td>\n      <td>professional</td>\n      <td>caucasian</td>\n      <td>Male</td>\n      <td>0.0</td>\n      <td>1887.0</td>\n      <td>45</td>\n      <td>259.0</td>\n      <td>351.0</td>\n      <td>1</td>\n    </tr>\n    <tr>\n      <th>13591</th>\n      <td>1013638</td>\n      <td>58.0</td>\n      <td>private</td>\n      <td>40742.50</td>\n      <td>10</td>\n      <td>Married</td>\n      <td>sales</td>\n      <td>caucasian</td>\n      <td>Male</td>\n      <td>0.0</td>\n      <td>1977.0</td>\n      <td>60</td>\n      <td>373.0</td>\n      <td>252.0</td>\n      <td>1</td>\n    </tr>\n    <tr>\n      <th>13593</th>\n      <td>1030426</td>\n      <td>51.0</td>\n      <td>private</td>\n      <td>27984.75</td>\n      <td>13</td>\n      <td>Married</td>\n      <td>professional</td>\n      <td>caucasian</td>\n      <td>Male</td>\n      <td>0.0</td>\n      <td>0.0</td>\n      <td>50</td>\n      <td>80.0</td>\n      <td>54.0</td>\n      <td>1</td>\n    </tr>\n    <tr>\n      <th>13597</th>\n      <td>1038013</td>\n      <td>45.0</td>\n      <td>private</td>\n      <td>25536.75</td>\n      <td>11</td>\n      <td>Divorced</td>\n      <td>executive</td>\n      <td>caucasian</td>\n      <td>Male</td>\n      <td>0.0</td>\n      <td>0.0</td>\n      <td>40</td>\n      <td>99.0</td>\n      <td>79.0</td>\n      <td>1</td>\n    </tr>\n    <tr>\n      <th>13598</th>\n      <td>1017676</td>\n      <td>42.0</td>\n      <td>private</td>\n      <td>57656.00</td>\n      <td>6</td>\n      <td>Never-married</td>\n      <td>trucker</td>\n      <td>caucasian</td>\n      <td>Male</td>\n      <td>0.0</td>\n      <td>0.0</td>\n      <td>40</td>\n      <td>24.0</td>\n      <td>373.0</td>\n      <td>1</td>\n    </tr>\n  </tbody>\n</table>\n<p>8436 rows × 15 columns</p>\n</div>"
     },
     "execution_count": 32,
     "metadata": {},
     "output_type": "execute_result"
    }
   ],
   "source": [
    "df.shape\n",
    "df.dropna(inplace=True)\n",
    "df.shape\n",
    "df"
   ],
   "metadata": {
    "collapsed": false,
    "ExecuteTime": {
     "end_time": "2023-09-30T00:29:54.016893600Z",
     "start_time": "2023-09-30T00:29:53.991307500Z"
    }
   },
   "id": "2f8afc17cfad4bfc"
  },
  {
   "cell_type": "code",
   "execution_count": 33,
   "outputs": [],
   "source": [
    "label_encoder = preprocessing.LabelEncoder()\n",
    "df['workclass_clean']= label_encoder.fit_transform(df['workclass']) \n",
    "df['marital-status_clean']= label_encoder.fit_transform(df['marital-status'])\n",
    "df['occupation_clean']= label_encoder.fit_transform(df['occupation'])\n",
    "df['race_clean']= label_encoder.fit_transform(df['race'])\n",
    "df['sex_clean']= label_encoder.fit_transform(df['sex'])"
   ],
   "metadata": {
    "collapsed": false,
    "ExecuteTime": {
     "end_time": "2023-09-30T00:29:54.090805700Z",
     "start_time": "2023-09-30T00:29:54.022903400Z"
    }
   },
   "id": "30cf971132a742be"
  },
  {
   "cell_type": "code",
   "execution_count": 34,
   "outputs": [
    {
     "data": {
      "text/plain": "   user_id   age workclass    salary  education_rank marital-status  \\\n2  1006870  21.0   private  47947.25              10  Never-married   \n5  1022394  26.0   private  59060.50              15  Never-married   \n6  1026358  58.0   private  56400.75               5       Divorced   \n7  1026126  23.0   private  11329.25              10       Divorced   \n9  1024034  33.0   private  55331.00               9  Never-married   \n\n     occupation           race     sex  mins_beerdrinking_year  \\\n2      clerical      caucasian  Female                     0.0   \n5  professional      caucasian  Female                     0.0   \n6          farm  not_caucasian    Male                     0.0   \n7         sales      caucasian  Female                     0.0   \n9       factory  not_caucasian  Female                     0.0   \n\n   mins_exercising_year  works_hours  tea_per_year  coffee_per_year  \\\n2                   0.0           10         442.0            276.0   \n5                   0.0           30         177.0            377.0   \n6                   0.0           40          11.0             98.0   \n7                   0.0           40          29.0            276.0   \n9                   0.0           40         375.0             77.0   \n\n   great_customer_class  workclass_clean  marital-status_clean  \\\n2                     0                1                     2   \n5                     0                1                     2   \n6                     0                1                     0   \n7                     0                1                     0   \n9                     0                1                     2   \n\n   occupation_clean  race_clean  sex_clean  \n2                 1           0          0  \n5                 8           0          0  \n6                 6           1          1  \n7                 9           0          0  \n9                 5           1          0  ",
      "text/html": "<div>\n<style scoped>\n    .dataframe tbody tr th:only-of-type {\n        vertical-align: middle;\n    }\n\n    .dataframe tbody tr th {\n        vertical-align: top;\n    }\n\n    .dataframe thead th {\n        text-align: right;\n    }\n</style>\n<table border=\"1\" class=\"dataframe\">\n  <thead>\n    <tr style=\"text-align: right;\">\n      <th></th>\n      <th>user_id</th>\n      <th>age</th>\n      <th>workclass</th>\n      <th>salary</th>\n      <th>education_rank</th>\n      <th>marital-status</th>\n      <th>occupation</th>\n      <th>race</th>\n      <th>sex</th>\n      <th>mins_beerdrinking_year</th>\n      <th>mins_exercising_year</th>\n      <th>works_hours</th>\n      <th>tea_per_year</th>\n      <th>coffee_per_year</th>\n      <th>great_customer_class</th>\n      <th>workclass_clean</th>\n      <th>marital-status_clean</th>\n      <th>occupation_clean</th>\n      <th>race_clean</th>\n      <th>sex_clean</th>\n    </tr>\n  </thead>\n  <tbody>\n    <tr>\n      <th>2</th>\n      <td>1006870</td>\n      <td>21.0</td>\n      <td>private</td>\n      <td>47947.25</td>\n      <td>10</td>\n      <td>Never-married</td>\n      <td>clerical</td>\n      <td>caucasian</td>\n      <td>Female</td>\n      <td>0.0</td>\n      <td>0.0</td>\n      <td>10</td>\n      <td>442.0</td>\n      <td>276.0</td>\n      <td>0</td>\n      <td>1</td>\n      <td>2</td>\n      <td>1</td>\n      <td>0</td>\n      <td>0</td>\n    </tr>\n    <tr>\n      <th>5</th>\n      <td>1022394</td>\n      <td>26.0</td>\n      <td>private</td>\n      <td>59060.50</td>\n      <td>15</td>\n      <td>Never-married</td>\n      <td>professional</td>\n      <td>caucasian</td>\n      <td>Female</td>\n      <td>0.0</td>\n      <td>0.0</td>\n      <td>30</td>\n      <td>177.0</td>\n      <td>377.0</td>\n      <td>0</td>\n      <td>1</td>\n      <td>2</td>\n      <td>8</td>\n      <td>0</td>\n      <td>0</td>\n    </tr>\n    <tr>\n      <th>6</th>\n      <td>1026358</td>\n      <td>58.0</td>\n      <td>private</td>\n      <td>56400.75</td>\n      <td>5</td>\n      <td>Divorced</td>\n      <td>farm</td>\n      <td>not_caucasian</td>\n      <td>Male</td>\n      <td>0.0</td>\n      <td>0.0</td>\n      <td>40</td>\n      <td>11.0</td>\n      <td>98.0</td>\n      <td>0</td>\n      <td>1</td>\n      <td>0</td>\n      <td>6</td>\n      <td>1</td>\n      <td>1</td>\n    </tr>\n    <tr>\n      <th>7</th>\n      <td>1026126</td>\n      <td>23.0</td>\n      <td>private</td>\n      <td>11329.25</td>\n      <td>10</td>\n      <td>Divorced</td>\n      <td>sales</td>\n      <td>caucasian</td>\n      <td>Female</td>\n      <td>0.0</td>\n      <td>0.0</td>\n      <td>40</td>\n      <td>29.0</td>\n      <td>276.0</td>\n      <td>0</td>\n      <td>1</td>\n      <td>0</td>\n      <td>9</td>\n      <td>0</td>\n      <td>0</td>\n    </tr>\n    <tr>\n      <th>9</th>\n      <td>1024034</td>\n      <td>33.0</td>\n      <td>private</td>\n      <td>55331.00</td>\n      <td>9</td>\n      <td>Never-married</td>\n      <td>factory</td>\n      <td>not_caucasian</td>\n      <td>Female</td>\n      <td>0.0</td>\n      <td>0.0</td>\n      <td>40</td>\n      <td>375.0</td>\n      <td>77.0</td>\n      <td>0</td>\n      <td>1</td>\n      <td>2</td>\n      <td>5</td>\n      <td>1</td>\n      <td>0</td>\n    </tr>\n  </tbody>\n</table>\n</div>"
     },
     "execution_count": 34,
     "metadata": {},
     "output_type": "execute_result"
    }
   ],
   "source": [
    "df.head()"
   ],
   "metadata": {
    "collapsed": false,
    "ExecuteTime": {
     "end_time": "2023-09-30T00:30:29.596571300Z",
     "start_time": "2023-09-30T00:30:29.586488200Z"
    }
   },
   "id": "a046543bc117cbac"
  },
  {
   "cell_type": "code",
   "execution_count": null,
   "outputs": [],
   "source": [
    "df.drop['']"
   ],
   "metadata": {
    "collapsed": false
   },
   "id": "b660f6c8aff07a99"
  }
 ],
 "metadata": {
  "kernelspec": {
   "display_name": "Python 3",
   "language": "python",
   "name": "python3"
  },
  "language_info": {
   "codemirror_mode": {
    "name": "ipython",
    "version": 2
   },
   "file_extension": ".py",
   "mimetype": "text/x-python",
   "name": "python",
   "nbconvert_exporter": "python",
   "pygments_lexer": "ipython2",
   "version": "2.7.6"
  }
 },
 "nbformat": 4,
 "nbformat_minor": 5
}
