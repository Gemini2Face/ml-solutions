{
 "cells": [
  {
   "cell_type": "code",
   "execution_count": 67,
   "id": "initial_id",
   "metadata": {
    "collapsed": true,
    "ExecuteTime": {
     "end_time": "2023-09-30T00:58:50.011760300Z",
     "start_time": "2023-09-30T00:58:47.162891100Z"
    }
   },
   "outputs": [
    {
     "name": "stderr",
     "output_type": "stream",
     "text": [
      "C:\\Users\\abhis\\AppData\\Local\\Programs\\Python\\Python311\\Lib\\site-packages\\sklearn\\linear_model\\_logistic.py:460: ConvergenceWarning: lbfgs failed to converge (status=1):\n",
      "STOP: TOTAL NO. of ITERATIONS REACHED LIMIT.\n",
      "\n",
      "Increase the number of iterations (max_iter) or scale the data as shown in:\n",
      "    https://scikit-learn.org/stable/modules/preprocessing.html\n",
      "Please also refer to the documentation for alternative solver options:\n",
      "    https://scikit-learn.org/stable/modules/linear_model.html#logistic-regression\n",
      "  n_iter_i = _check_optimize_result(\n"
     ]
    },
    {
     "name": "stdout",
     "output_type": "stream",
     "text": [
      "Classifier: Random Forest\n",
      "Accuracy: 1.0000\n",
      "Classification Report:\n",
      "              precision    recall  f1-score   support\n",
      "\n",
      "           0       1.00      1.00      1.00      5564\n",
      "           1       1.00      1.00      1.00       342\n",
      "\n",
      "    accuracy                           1.00      5906\n",
      "   macro avg       1.00      1.00      1.00      5906\n",
      "weighted avg       1.00      1.00      1.00      5906\n",
      "\n",
      "\n",
      "Classifier: Support Vector Machines\n",
      "Accuracy: 0.9478\n",
      "Classification Report:\n",
      "              precision    recall  f1-score   support\n",
      "\n",
      "           0       0.95      1.00      0.97      5564\n",
      "           1       1.00      0.10      0.18       342\n",
      "\n",
      "    accuracy                           0.95      5906\n",
      "   macro avg       0.97      0.55      0.58      5906\n",
      "weighted avg       0.95      0.95      0.93      5906\n",
      "\n",
      "\n",
      "Classifier: Logistic Regression\n",
      "Accuracy: 0.9585\n",
      "Classification Report:\n",
      "              precision    recall  f1-score   support\n",
      "\n",
      "           0       0.97      0.99      0.98      5564\n",
      "           1       0.69      0.51      0.59       342\n",
      "\n",
      "    accuracy                           0.96      5906\n",
      "   macro avg       0.83      0.75      0.78      5906\n",
      "weighted avg       0.95      0.96      0.96      5906\n",
      "\n",
      "\n",
      "Classifier: Naive Bayes\n",
      "Accuracy: 0.9294\n",
      "Classification Report:\n",
      "              precision    recall  f1-score   support\n",
      "\n",
      "           0       0.96      0.96      0.96      5564\n",
      "           1       0.40      0.42      0.41       342\n",
      "\n",
      "    accuracy                           0.93      5906\n",
      "   macro avg       0.68      0.69      0.69      5906\n",
      "weighted avg       0.93      0.93      0.93      5906\n",
      "\n",
      "\n",
      "Classifier: KNN\n",
      "Accuracy: 0.9455\n",
      "Classification Report:\n",
      "              precision    recall  f1-score   support\n",
      "\n",
      "           0       0.95      0.99      0.97      5564\n",
      "           1       0.63      0.14      0.23       342\n",
      "\n",
      "    accuracy                           0.95      5906\n",
      "   macro avg       0.79      0.57      0.60      5906\n",
      "weighted avg       0.93      0.95      0.93      5906\n"
     ]
    },
    {
     "name": "stderr",
     "output_type": "stream",
     "text": [
      "C:\\Users\\abhis\\AppData\\Local\\Programs\\Python\\Python311\\Lib\\site-packages\\sklearn\\linear_model\\_logistic.py:460: ConvergenceWarning: lbfgs failed to converge (status=1):\n",
      "STOP: TOTAL NO. of ITERATIONS REACHED LIMIT.\n",
      "\n",
      "Increase the number of iterations (max_iter) or scale the data as shown in:\n",
      "    https://scikit-learn.org/stable/modules/preprocessing.html\n",
      "Please also refer to the documentation for alternative solver options:\n",
      "    https://scikit-learn.org/stable/modules/linear_model.html#logistic-regression\n",
      "  n_iter_i = _check_optimize_result(\n"
     ]
    },
    {
     "name": "stdout",
     "output_type": "stream",
     "text": [
      "Ensemble Classifier (Voting)\n",
      "Accuracy: 0.9716\n",
      "Classification Report:\n",
      "              precision    recall  f1-score   support\n",
      "\n",
      "           0       0.97      1.00      0.99      5564\n",
      "           1       0.99      0.51      0.68       342\n",
      "\n",
      "    accuracy                           0.97      5906\n",
      "   macro avg       0.98      0.76      0.83      5906\n",
      "weighted avg       0.97      0.97      0.97      5906\n"
     ]
    },
    {
     "name": "stderr",
     "output_type": "stream",
     "text": [
      "C:\\Users\\abhis\\AppData\\Local\\Programs\\Python\\Python311\\Lib\\site-packages\\sklearn\\linear_model\\_logistic.py:460: ConvergenceWarning: lbfgs failed to converge (status=1):\n",
      "STOP: TOTAL NO. of ITERATIONS REACHED LIMIT.\n",
      "\n",
      "Increase the number of iterations (max_iter) or scale the data as shown in:\n",
      "    https://scikit-learn.org/stable/modules/preprocessing.html\n",
      "Please also refer to the documentation for alternative solver options:\n",
      "    https://scikit-learn.org/stable/modules/linear_model.html#logistic-regression\n",
      "  n_iter_i = _check_optimize_result(\n"
     ]
    }
   ],
   "source": [
    "import io\n",
    "import pandas as pd\n",
    "import requests\n",
    "from sklearn import preprocessing\n",
    "from sklearn.model_selection import train_test_split\n",
    "from sklearn.ensemble import RandomForestClassifier\n",
    "from sklearn.svm import SVC\n",
    "from sklearn.linear_model import LogisticRegression\n",
    "from sklearn.naive_bayes import GaussianNB\n",
    "from sklearn.neighbors import KNeighborsClassifier\n",
    "from sklearn.metrics import accuracy_score, classification_report\n",
    "from sklearn.ensemble import VotingClassifier\n",
    "\n",
    "\n",
    "url = \"https://raw.githubusercontent.com/subashgandyer/datasets/main/great_customers.csv\"\n",
    "\n",
    "response = requests.get(url)\n",
    "df = pd.read_csv(io.StringIO(response.text))\n",
    "df['great_customer_class'].value_counts()\n",
    "df.shape\n",
    "\n",
    "df.dropna(inplace=True)\n",
    "y=df['great_customer_class']\n",
    "df.shape\n",
    "label_encoder = preprocessing.LabelEncoder()\n",
    "df['workclass_clean']= label_encoder.fit_transform(df['workclass']) \n",
    "df['marital-status_clean']= label_encoder.fit_transform(df['marital-status'])\n",
    "df['occupation_clean']= label_encoder.fit_transform(df['occupation'])\n",
    "df['race_clean']= label_encoder.fit_transform(df['race'])\n",
    "df['sex_clean']= label_encoder.fit_transform(df['sex'])\n",
    "df.drop(columns=['workclass','marital-status','sex','occupation','race','user_id'],inplace=True)\n",
    "df.head()\n",
    "X=df\n",
    "X_train, X_test, y_train, y_test = train_test_split(X,y, test_size = 0.7,random_state = 0)\n",
    "\n",
    "\n",
    "\n",
    "def train_and_evaluate_classifier(classifier, X_train, y_train, X_test, y_test):\n",
    "\n",
    "    classifier.fit(X_train, y_train)\n",
    "    \n",
    "\n",
    "    y_pred = classifier.predict(X_test)\n",
    "    \n",
    "\n",
    "    accuracy = accuracy_score(y_test, y_pred)\n",
    "    \n",
    "\n",
    "    report = classification_report(y_test, y_pred)\n",
    "    \n",
    "    return accuracy, report\n",
    "\n",
    "\n",
    "random_forest = RandomForestClassifier(random_state=0)\n",
    "svm = SVC(random_state=0)\n",
    "logistic_regression = LogisticRegression(max_iter=1000, random_state=0)\n",
    "naive_bayes = GaussianNB()\n",
    "knn = KNeighborsClassifier()\n",
    "\n",
    "\n",
    "classifiers = {\n",
    "    \"Random Forest\": random_forest,\n",
    "    \"Support Vector Machines\": svm,\n",
    "    \"Logistic Regression\": logistic_regression,\n",
    "    \"Naive Bayes\": naive_bayes,\n",
    "    \"KNN\": knn\n",
    "}\n",
    "\n",
    "results = {}\n",
    "\n",
    "for name, clf in classifiers.items():\n",
    "    accuracy, report = train_and_evaluate_classifier(clf, X_train, y_train, X_test, y_test)\n",
    "    results[name] = {\n",
    "        \"Accuracy\": accuracy,\n",
    "        \"Classification Report\": report\n",
    "    }\n",
    "\n",
    "\n",
    "for name, metrics in results.items():\n",
    "    print(f\"Classifier: {name}\")\n",
    "    print(f\"Accuracy: {metrics['Accuracy']:.4f}\")\n",
    "    print(f\"Classification Report:\\n{metrics['Classification Report']}\\n\")\n",
    "    \n",
    "\n",
    "\n",
    "random_forest = RandomForestClassifier(random_state=0)\n",
    "svm = SVC(random_state=0, probability=True)  \n",
    "logistic_regression = LogisticRegression(max_iter=1000, random_state=0)\n",
    "\n",
    "\n",
    "voting_classifier = VotingClassifier(estimators=[\n",
    "    ('Random Forest', random_forest),\n",
    "    ('SVM', svm),\n",
    "    ('Logistic Regression', logistic_regression)\n",
    "], voting='soft')  \n",
    "\n",
    "\n",
    "voting_classifier.fit(X_train, y_train)\n",
    "\n",
    "\n",
    "accuracy, report = train_and_evaluate_classifier(voting_classifier, X_train, y_train, X_test, y_test)\n",
    "\n",
    "\n",
    "print(f\"Ensemble Classifier (Voting)\")\n",
    "print(f\"Accuracy: {accuracy:.4f}\")\n",
    "print(f\"Classification Report:\\n{report}\")\n",
    "\n",
    "    \n"
   ]
  },
  {
   "cell_type": "code",
   "execution_count": 67,
   "outputs": [],
   "source": [],
   "metadata": {
    "collapsed": false,
    "ExecuteTime": {
     "end_time": "2023-09-30T00:58:50.014927700Z",
     "start_time": "2023-09-30T00:58:50.011249500Z"
    }
   },
   "id": "2f8afc17cfad4bfc"
  },
  {
   "cell_type": "code",
   "execution_count": 67,
   "outputs": [],
   "source": [],
   "metadata": {
    "collapsed": false,
    "ExecuteTime": {
     "end_time": "2023-09-30T00:58:50.018765200Z",
     "start_time": "2023-09-30T00:58:50.014417100Z"
    }
   },
   "id": "30cf971132a742be"
  },
  {
   "cell_type": "code",
   "execution_count": 67,
   "outputs": [],
   "source": [],
   "metadata": {
    "collapsed": false,
    "ExecuteTime": {
     "end_time": "2023-09-30T00:58:50.022569600Z",
     "start_time": "2023-09-30T00:58:50.018254400Z"
    }
   },
   "id": "a046543bc117cbac"
  },
  {
   "cell_type": "code",
   "execution_count": 67,
   "outputs": [],
   "source": [],
   "metadata": {
    "collapsed": false,
    "ExecuteTime": {
     "end_time": "2023-09-30T00:58:50.025383900Z",
     "start_time": "2023-09-30T00:58:50.022569600Z"
    }
   },
   "id": "b660f6c8aff07a99"
  },
  {
   "cell_type": "code",
   "execution_count": 67,
   "outputs": [],
   "source": [],
   "metadata": {
    "collapsed": false,
    "ExecuteTime": {
     "end_time": "2023-09-30T00:58:50.025383900Z",
     "start_time": "2023-09-30T00:58:50.025383900Z"
    }
   },
   "id": "e6614cc1d99cda35"
  },
  {
   "cell_type": "code",
   "execution_count": 67,
   "outputs": [],
   "source": [],
   "metadata": {
    "collapsed": false,
    "ExecuteTime": {
     "end_time": "2023-09-30T00:58:50.028385200Z",
     "start_time": "2023-09-30T00:58:50.025383900Z"
    }
   },
   "id": "bac088a5b7b866fb"
  }
 ],
 "metadata": {
  "kernelspec": {
   "display_name": "Python 3",
   "language": "python",
   "name": "python3"
  },
  "language_info": {
   "codemirror_mode": {
    "name": "ipython",
    "version": 2
   },
   "file_extension": ".py",
   "mimetype": "text/x-python",
   "name": "python",
   "nbconvert_exporter": "python",
   "pygments_lexer": "ipython2",
   "version": "2.7.6"
  }
 },
 "nbformat": 4,
 "nbformat_minor": 5
}
